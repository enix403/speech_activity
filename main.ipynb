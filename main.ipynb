{
 "cells": [
  {
   "cell_type": "code",
   "execution_count": 67,
   "id": "8112a6ad-dc93-41e8-80af-0e0f27e42cc0",
   "metadata": {},
   "outputs": [],
   "source": [
    "from pathlib import Path\n",
    "import math\n",
    "\n",
    "import torch\n",
    "import numpy as np\n",
    "import pandas as pd\n",
    "import textgrids\n",
    "import librosa\n",
    "\n",
    "import matplotlib.pyplot as plt\n",
    "\n",
    "%matplotlib inline"
   ]
  },
  {
   "cell_type": "code",
   "execution_count": 48,
   "id": "1a4ae379-64c0-4e84-9d83-40736a52ab1e",
   "metadata": {},
   "outputs": [],
   "source": [
    "ROOT_DIR = Path(\"data/Data\")\n",
    "AUDIOS_DIR = ROOT_DIR / \"Audio\"\n",
    "ANNOTATIONS_DIR = ROOT_DIR / \"Annotation\"\n",
    "\n",
    "def get_file_paths(name: str):\n",
    "    audio_path = AUDIOS_DIR / (name + \".wav\")\n",
    "    annotation_path = ANNOTATIONS_DIR / (name + \".TextGrid\")\n",
    "\n",
    "    return audio_path, annotation_path"
   ]
  },
  {
   "cell_type": "code",
   "execution_count": 49,
   "id": "12954fca-0a36-40af-a79d-dabf491e94a9",
   "metadata": {},
   "outputs": [],
   "source": [
    "audio_path, ann_path = get_file_paths(\"Female/TMIT/SI2220\")"
   ]
  },
  {
   "cell_type": "code",
   "execution_count": 10,
   "id": "8f2f7e85-68e0-462f-aef3-56306d49b9b8",
   "metadata": {},
   "outputs": [],
   "source": [
    "grid = textgrids.TextGrid(ann_path)"
   ]
  },
  {
   "cell_type": "code",
   "execution_count": 63,
   "id": "a56bc671-2f96-44b9-8cf5-1ceb2445e53b",
   "metadata": {},
   "outputs": [],
   "source": [
    "MS_PER_FRAME = 30\n",
    "\n",
    "def read_annotation(ann_path):\n",
    "    grid = textgrids.TextGrid(ann_path)\n",
    "    labels_per_frame = []\n",
    "    \n",
    "    for interval in grid['silences']:\n",
    "        label = int(interval.text) # 1 = speech, 0 = no speech\n",
    "        ms = interval.dur * 1000\n",
    "        num_frames = int(round(ms / MS_PER_FRAME))\n",
    "        for _ in range(num_frames):\n",
    "            labels_per_frame.append(label)\n",
    "\n",
    "    return labels_per_frame"
   ]
  },
  {
   "cell_type": "code",
   "execution_count": 69,
   "id": "2c2d9e2b-8e58-4953-b9dc-a259a110e294",
   "metadata": {},
   "outputs": [],
   "source": [
    "labels_per_frame = read_annotation(ann_path)"
   ]
  },
  {
   "cell_type": "code",
   "execution_count": 26,
   "id": "50ded980-226f-4d29-ba33-335a08e8d3de",
   "metadata": {},
   "outputs": [],
   "source": [
    "def read_audio(audio_path: str):\n",
    "    signal, freq = librosa.load(audio_path)\n",
    "    return signal, freq"
   ]
  },
  {
   "cell_type": "code",
   "execution_count": 33,
   "id": "456f0499-1327-431c-9300-c52001de1978",
   "metadata": {},
   "outputs": [],
   "source": [
    "signal, freq = read_audio(audio_path)"
   ]
  },
  {
   "cell_type": "code",
   "execution_count": 61,
   "id": "ccafdad6-180e-48c9-8b1d-33c205452258",
   "metadata": {},
   "outputs": [
    {
     "name": "stdout",
     "output_type": "stream",
     "text": [
      "num_samples=64492\n",
      "freq=22050\n",
      "time_period_ms=0.045351473922902494\n"
     ]
    }
   ],
   "source": [
    "# Total number of samples in the signal\n",
    "num_samples = len(signal)\n",
    "# Time elapsed between each sample (ms)\n",
    "time_period_ms = 1000 * 1 / freq\n",
    "\n",
    "print(f\"{num_samples=}\")\n",
    "print(f\"{freq=}\")\n",
    "print(f\"{time_period_ms=}\")"
   ]
  },
  {
   "cell_type": "code",
   "execution_count": 62,
   "id": "da7a0369-86b1-4c51-aa98-b2ff40123d9f",
   "metadata": {},
   "outputs": [],
   "source": [
    "# stores time in ms of the i'th sample\n",
    "t = np.arange(num_samples) * time_period_ms"
   ]
  },
  {
   "cell_type": "code",
   "execution_count": 68,
   "id": "0980f66f-2db1-4d1b-a679-c54963351bd6",
   "metadata": {},
   "outputs": [
    {
     "name": "stdout",
     "output_type": "stream",
     "text": [
      "661\n"
     ]
    }
   ],
   "source": [
    "# Number of samples that make a frame\n",
    "# = MS_PER_FRAME / time_period_ms\n",
    "# = MS_PER_FRAME / (time_period * 1000)\n",
    "# = MS_PER_FRAME * 1 / (time_period * 1000)\n",
    "# = MS_PER_FRAME * freq / 1000 (division by time_period eliminated)\n",
    "num_frame_samples = int(math.floor(MS_PER_FRAME * freq / 1000))\n",
    "print(num_frame_samples)"
   ]
  },
  {
   "cell_type": "code",
   "execution_count": 107,
   "id": "638f8f7d-5bec-4383-89d6-79288c478ee5",
   "metadata": {},
   "outputs": [
    {
     "data": {
      "image/png": "[encoded data removed]",
      "text/plain": [
       "<Figure size 1000x200 with 1 Axes>"
      ]
     },
     "metadata": {},
     "output_type": "display_data"
    }
   ],
   "source": [
    "figure = plt.figure(figsize=(10, 2))\n",
    "plt.plot(t, signal)\n",
    "\n",
    "for i, label in enumerate(labels_per_frame):\n",
    "    if label == 1:\n",
    "        start = i * num_frame_samples\n",
    "        end = start + num_frame_samples - 1\n",
    "\n",
    "        plt.axvspan(t[start], t[end], alpha=0.4, fc='g')\n"
   ]
  }
 ],
 "metadata": {
  "kernelspec": {
   "display_name": "Python 3 (ipykernel)",
   "language": "python",
   "name": "python3"
  },
  "language_info": {
   "codemirror_mode": {
    "name": "ipython",
    "version": 3
   },
   "file_extension": ".py",
   "mimetype": "text/x-python",
   "name": "python",
   "nbconvert_exporter": "python",
   "pygments_lexer": "ipython3",
   "version": "3.12.7"
  }
 },
 "nbformat": 4,
 "nbformat_minor": 5
}
