{
 "cells": [
  {
   "cell_type": "code",
   "execution_count": 1,
   "id": "772b24aa-ad12-426b-b2fe-8bdb899a096f",
   "metadata": {},
   "outputs": [],
   "source": [
    "%load_ext autoreload\n",
    "%autoreload 2"
   ]
  },
  {
   "cell_type": "code",
   "execution_count": 6,
   "id": "3880ebf4-f2e2-492f-8567-06ed8d15c29a",
   "metadata": {},
   "outputs": [],
   "source": [
    "import torch\n",
    "from torch import nn\n",
    "from torch.utils.data import DataLoader\n",
    "import matplotlib.pyplot as plt\n",
    "\n",
    "%matplotlib inline"
   ]
  },
  {
   "cell_type": "code",
   "execution_count": 3,
   "id": "96f2b65f-fd37-490e-8b66-cfdd30981527",
   "metadata": {},
   "outputs": [],
   "source": [
    "from speech_dataset import *\n",
    "from models import ConvBiLSTM"
   ]
  },
  {
   "cell_type": "code",
   "execution_count": 4,
   "id": "8c80566b-0df0-4318-beff-22af9edb67f3",
   "metadata": {},
   "outputs": [],
   "source": [
    "train_dataset, test_dataset = load_torch_dataset()"
   ]
  },
  {
   "cell_type": "code",
   "execution_count": 9,
   "id": "63be490b-3bcf-4494-b3bc-dbee77fc8143",
   "metadata": {},
   "outputs": [],
   "source": [
    "train_dataloader = DataLoader(train_dataset, batch_size=32)"
   ]
  },
  {
   "cell_type": "code",
   "execution_count": 8,
   "id": "abaa765a-599c-43e6-9c4e-9b394cdb7614",
   "metadata": {},
   "outputs": [],
   "source": [
    "model = ConvBiLSTM()"
   ]
  },
  {
   "cell_type": "code",
   "execution_count": 16,
   "id": "40f49071-5ee7-4fbd-9f96-4329b9f3fbed",
   "metadata": {},
   "outputs": [],
   "source": [
    "optimizer = torch.optim.Adam(model.parameters(), lr=0.01)\n",
    "loss_fn = nn.CrossEntropyLoss()"
   ]
  },
  {
   "cell_type": "code",
   "execution_count": 15,
   "id": "98f70f91-75b2-4fc2-9466-0302e3055323",
   "metadata": {},
   "outputs": [
    {
     "name": "stdout",
     "output_type": "stream",
     "text": [
      "b= 1 = 0.6720322370529175\n",
      "b= 2 = 0.6865634322166443\n",
      "b= 3 = 0.6830657720565796\n",
      "b= 4 = 0.68161940574646\n",
      "b= 5 = 0.6695708632469177\n",
      "b= 6 = 0.6421709060668945\n",
      "b= 7 = 0.6288965344429016\n",
      "b= 8 = 0.7390048503875732\n",
      "b= 9 = 0.8106403350830078\n",
      "b=10 = 0.8049682974815369\n",
      "b=11 = 0.8030998706817627\n",
      "b=12 = 0.7866469025611877\n",
      "b=13 = 0.7384445071220398\n",
      "b=14 = 0.6759787201881409\n",
      "==== Epoch 1: train_loss=0.7159073310\n",
      "Done\n"
     ]
    }
   ],
   "source": [
    "model.train()\n",
    "for i in range(2):\n",
    "    epoch_loss = 0\n",
    "    b = 0\n",
    "\n",
    "    for X, Y in train_dataloader:\n",
    "        optimizer.zero_grad()\n",
    "        preds = model(X)\n",
    "        loss = loss_fn(preds.view(-1, 2), Y.view(-1))\n",
    "\n",
    "        print(f\"b={b+1:2d} = {loss.item()}\")\n",
    "    \n",
    "        loss.backward()\n",
    "        optimizer.step()\n",
    "        epoch_loss += loss.item()\n",
    "        b += 1\n",
    "\n",
    "    print(f\"==== Epoch {i+1}: train_loss={epoch_loss/b:.10f}\")\n",
    "\n",
    "print(\"Done\")"
   ]
  }
 ],
 "metadata": {
  "kernelspec": {
   "display_name": "Python 3 (ipykernel)",
   "language": "python",
   "name": "python3"
  },
  "language_info": {
   "codemirror_mode": {
    "name": "ipython",
    "version": 3
   },
   "file_extension": ".py",
   "mimetype": "text/x-python",
   "name": "python",
   "nbconvert_exporter": "python",
   "pygments_lexer": "ipython3",
   "version": "3.12.7"
  }
 },
 "nbformat": 4,
 "nbformat_minor": 5
}
