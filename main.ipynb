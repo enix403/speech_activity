{
 "cells": [
  {
   "cell_type": "code",
   "execution_count": 1,
   "id": "8112a6ad-dc93-41e8-80af-0e0f27e42cc0",
   "metadata": {},
   "outputs": [],
   "source": [
    "import torch\n",
    "import numpy as np\n",
    "import pandas as pd\n",
    "import textgrids\n",
    "import librosa\n",
    "\n",
    "import matplotlib.pyplot as plt\n",
    "\n",
    "%matplotlib inline"
   ]
  },
  {
   "cell_type": "code",
   "execution_count": 3,
   "id": "8f987dd4-51a1-47f8-9209-da5b7c7fd043",
   "metadata": {},
   "outputs": [],
   "source": [
    "FRAME_DURATION = 30\n",
    "OVERLAP_RATE = 0.0"
   ]
  },
  {
   "cell_type": "code",
   "execution_count": null,
   "id": "1a4ae379-64c0-4e84-9d83-40736a52ab1e",
   "metadata": {},
   "outputs": [],
   "source": []
  }
 ],
 "metadata": {
  "kernelspec": {
   "display_name": "Python 3 (ipykernel)",
   "language": "python",
   "name": "python3"
  },
  "language_info": {
   "codemirror_mode": {
    "name": "ipython",
    "version": 3
   },
   "file_extension": ".py",
   "mimetype": "text/x-python",
   "name": "python",
   "nbconvert_exporter": "python",
   "pygments_lexer": "ipython3",
   "version": "3.12.7"
  }
 },
 "nbformat": 4,
 "nbformat_minor": 5
}
