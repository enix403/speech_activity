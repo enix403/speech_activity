{
 "cells": [
  {
   "cell_type": "code",
   "execution_count": 1,
   "id": "772b24aa-ad12-426b-b2fe-8bdb899a096f",
   "metadata": {},
   "outputs": [],
   "source": [
    "%load_ext autoreload\n",
    "%autoreload 2"
   ]
  },
  {
   "cell_type": "code",
   "execution_count": 2,
   "id": "3880ebf4-f2e2-492f-8567-06ed8d15c29a",
   "metadata": {},
   "outputs": [],
   "source": [
    "import torch\n",
    "from torch import nn\n",
    "from torch.utils.data import DataLoader\n",
    "import matplotlib.pyplot as plt\n",
    "\n",
    "%matplotlib inline"
   ]
  },
  {
   "cell_type": "code",
   "execution_count": 3,
   "id": "96f2b65f-fd37-490e-8b66-cfdd30981527",
   "metadata": {},
   "outputs": [],
   "source": [
    "from speech_dataset import *\n",
    "from models import ConvBiLSTM"
   ]
  },
  {
   "cell_type": "code",
   "execution_count": 4,
   "id": "8c80566b-0df0-4318-beff-22af9edb67f3",
   "metadata": {},
   "outputs": [],
   "source": [
    "train_dataset, test_dataset = load_torch_dataset()"
   ]
  },
  {
   "cell_type": "code",
   "execution_count": 5,
   "id": "63be490b-3bcf-4494-b3bc-dbee77fc8143",
   "metadata": {},
   "outputs": [],
   "source": [
    "train_dataloader = DataLoader(train_dataset, batch_size=32)"
   ]
  },
  {
   "cell_type": "code",
   "execution_count": 6,
   "id": "abaa765a-599c-43e6-9c4e-9b394cdb7614",
   "metadata": {},
   "outputs": [],
   "source": [
    "model = ConvBiLSTM()"
   ]
  },
  {
   "cell_type": "code",
   "execution_count": 7,
   "id": "40f49071-5ee7-4fbd-9f96-4329b9f3fbed",
   "metadata": {},
   "outputs": [],
   "source": [
    "optimizer = torch.optim.Adam(model.parameters(), lr=0.00005)\n",
    "loss_fn = nn.CrossEntropyLoss()"
   ]
  },
  {
   "cell_type": "code",
   "execution_count": 8,
   "id": "0a2466bd-ccd4-4ef8-a35a-6f0992cb1b76",
   "metadata": {},
   "outputs": [],
   "source": [
    "losses = []"
   ]
  },
  {
   "cell_type": "code",
   "execution_count": 40,
   "id": "98f70f91-75b2-4fc2-9466-0302e3055323",
   "metadata": {},
   "outputs": [
    {
     "name": "stdout",
     "output_type": "stream",
     "text": [
      "==== Epoch 1: train_loss=0.0229355487\n",
      "==== Epoch 2: train_loss=0.0228157360\n",
      "==== Epoch 3: train_loss=0.0228236524\n",
      "==== Epoch 4: train_loss=0.0228031888\n",
      "==== Epoch 5: train_loss=0.0228236258\n",
      "==== Epoch 6: train_loss=0.0228305822\n",
      "==== Epoch 7: train_loss=0.0228126460\n",
      "==== Epoch 8: train_loss=0.0228347996\n",
      "==== Epoch 9: train_loss=0.0228170569\n",
      "==== Epoch 10: train_loss=0.0227976477\n",
      "Done\n"
     ]
    }
   ],
   "source": [
    "model.train()\n",
    "\n",
    "for i in range(10):\n",
    "    epoch_loss = 0\n",
    "    b = 0\n",
    "\n",
    "    for X, Y in train_dataloader:\n",
    "        optimizer.zero_grad()\n",
    "        preds = model(X)\n",
    "        loss = loss_fn(preds.view(-1, 2), Y.view(-1))\n",
    "\n",
    "        # if b % 5 == 0:\n",
    "            # print(f\"b={b+1:02d}: {loss.item()}\")\n",
    "    \n",
    "        loss.backward()\n",
    "        optimizer.step()\n",
    "        epoch_loss += loss.item()\n",
    "        b += 1\n",
    "\n",
    "    epoch_loss = epoch_loss / len(train_dataset)\n",
    "    losses.append(epoch_loss)\n",
    "\n",
    "    print(f\"==== Epoch {i+1}: train_loss={epoch_loss:.10f}\")\n",
    "\n",
    "print(\"Done\")"
   ]
  },
  {
   "cell_type": "code",
   "execution_count": null,
   "id": "9f38afea-864e-42cd-b818-8c4ded8769a8",
   "metadata": {},
   "outputs": [],
   "source": [
    "plt.plot(losses)"
   ]
  },
  {
   "cell_type": "code",
   "execution_count": 43,
   "id": "e2605111-ca00-4729-99ce-36fbe9afc525",
   "metadata": {},
   "outputs": [],
   "source": [
    "# torch.save({'model_state': model.state_dict()},'checkpoints/model_001.chk')"
   ]
  },
  {
   "cell_type": "code",
   "execution_count": 10,
   "id": "13a47daf-335c-4ba4-940e-a8a886d2b5ab",
   "metadata": {},
   "outputs": [],
   "source": [
    "# checkpoint = torch.load('checkpoints/model_001.chk')\n",
    "# model.load_state_dict(checkpoint['model_state'])"
   ]
  },
  {
   "cell_type": "code",
   "execution_count": 17,
   "id": "f29433a6-34a2-4ecc-8330-d9a083c93174",
   "metadata": {},
   "outputs": [],
   "source": [
    "def evaluate(dataset):\n",
    "    X = dataset.tensors[0]\n",
    "    Y = dataset.tensors[1]\n",
    "\n",
    "    model.eval()\n",
    "    with torch.no_grad():\n",
    "        preds = model(X)\n",
    "        loss = loss_fn(preds.view(-1, 2), Y.view(-1))\n",
    "        loss = loss / X.shape[0]\n",
    "\n",
    "    return loss"
   ]
  },
  {
   "cell_type": "code",
   "execution_count": null,
   "id": "1b2374d2-324b-422d-9c3a-bea22aaf32b4",
   "metadata": {},
   "outputs": [],
   "source": [
    "evaluate(train_dataset)"
   ]
  },
  {
   "cell_type": "code",
   "execution_count": null,
   "id": "4721190e-93cf-4206-8376-46d84d3c64a8",
   "metadata": {},
   "outputs": [],
   "source": [
    "evaluate(test_dataset)"
   ]
  }
 ],
 "metadata": {
  "kernelspec": {
   "display_name": "Python 3 (ipykernel)",
   "language": "python",
   "name": "python3"
  },
  "language_info": {
   "codemirror_mode": {
    "name": "ipython",
    "version": 3
   },
   "file_extension": ".py",
   "mimetype": "text/x-python",
   "name": "python",
   "nbconvert_exporter": "python",
   "pygments_lexer": "ipython3",
   "version": "3.12.7"
  }
 },
 "nbformat": 4,
 "nbformat_minor": 5
}
