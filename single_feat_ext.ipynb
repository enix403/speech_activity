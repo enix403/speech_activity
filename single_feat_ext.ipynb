{
 "cells": [
  {
   "cell_type": "code",
   "execution_count": 1,
   "id": "ee288e51-bd66-4d4e-bc4c-e4a865946824",
   "metadata": {},
   "outputs": [],
   "source": [
    "%load_ext autoreload\n",
    "%autoreload 2"
   ]
  },
  {
   "cell_type": "code",
   "execution_count": 2,
   "id": "afe38341-6fcb-4b09-998d-61d5f79f1587",
   "metadata": {},
   "outputs": [],
   "source": [
    "import os\n",
    "from pathlib import Path\n",
    "import math\n",
    "\n",
    "import torch\n",
    "from torch import nn\n",
    "import numpy as np\n",
    "import pandas as pd\n",
    "import scipy\n",
    "import textgrids\n",
    "import librosa\n",
    "import python_speech_features as psf\n",
    "\n",
    "import matplotlib.pyplot as plt\n",
    "\n",
    "%matplotlib inline"
   ]
  },
  {
   "cell_type": "code",
   "execution_count": 5,
   "id": "def3d31d-62de-429d-9ab4-7e818810e485",
   "metadata": {},
   "outputs": [],
   "source": [
    "from load_data import *"
   ]
  },
  {
   "cell_type": "code",
   "execution_count": 91,
   "id": "b8cfde7e-6948-4f4d-84ef-14f485e1aa20",
   "metadata": {},
   "outputs": [],
   "source": [
    "from models import ConvBiLSTM\n",
    "model = ConvBiLSTM()"
   ]
  },
  {
   "cell_type": "code",
   "execution_count": null,
   "id": "28533e75-5b86-4be3-8477-0a2dbcec40fa",
   "metadata": {},
   "outputs": [],
   "source": [
    "x = torch.randn(256, 15, 32, 32)\n",
    "v = model(x)\n",
    "v.shape"
   ]
  }
 ],
 "metadata": {
  "kernelspec": {
   "display_name": "Python 3 (ipykernel)",
   "language": "python",
   "name": "python3"
  },
  "language_info": {
   "codemirror_mode": {
    "name": "ipython",
    "version": 3
   },
   "file_extension": ".py",
   "mimetype": "text/x-python",
   "name": "python",
   "nbconvert_exporter": "python",
   "pygments_lexer": "ipython3",
   "version": "3.12.7"
  }
 },
 "nbformat": 4,
 "nbformat_minor": 5
}
