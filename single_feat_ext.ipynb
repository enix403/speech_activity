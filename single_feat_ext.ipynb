{
 "cells": [
  {
   "cell_type": "code",
   "execution_count": 1,
   "id": "ee288e51-bd66-4d4e-bc4c-e4a865946824",
   "metadata": {},
   "outputs": [],
   "source": [
    "%load_ext autoreload\n",
    "%autoreload 2"
   ]
  },
  {
   "cell_type": "code",
   "execution_count": 2,
   "id": "afe38341-6fcb-4b09-998d-61d5f79f1587",
   "metadata": {},
   "outputs": [],
   "source": [
    "import os\n",
    "from pathlib import Path\n",
    "import math\n",
    "\n",
    "import torch\n",
    "from torch import nn\n",
    "import numpy as np\n",
    "import pandas as pd\n",
    "import scipy\n",
    "import textgrids\n",
    "import librosa\n",
    "import python_speech_features as psf\n",
    "\n",
    "import matplotlib.pyplot as plt\n",
    "\n",
    "%matplotlib inline"
   ]
  },
  {
   "cell_type": "code",
   "execution_count": 3,
   "id": "def3d31d-62de-429d-9ab4-7e818810e485",
   "metadata": {},
   "outputs": [],
   "source": [
    "from speech_dataset import load_torch_dataset"
   ]
  },
  {
   "cell_type": "code",
   "execution_count": 4,
   "id": "e4540553-fcdc-477d-a1d5-adf735e52d27",
   "metadata": {},
   "outputs": [],
   "source": [
    "tr, ts = load_torch_dataset()"
   ]
  },
  {
   "cell_type": "code",
   "execution_count": 9,
   "id": "e9bc7511-a702-40a9-99ba-b7ed4853bf7f",
   "metadata": {},
   "outputs": [],
   "source": [
    "x, y = tr[56]"
   ]
  },
  {
   "cell_type": "code",
   "execution_count": 13,
   "id": "bed02247-9942-4085-82e5-02e498026bc2",
   "metadata": {},
   "outputs": [
    {
     "data": {
      "text/plain": [
       "(torch.float64, torch.uint8)"
      ]
     },
     "execution_count": 13,
     "metadata": {},
     "output_type": "execute_result"
    }
   ],
   "source": [
    "x.dtype, y.dtype"
   ]
  }
 ],
 "metadata": {
  "kernelspec": {
   "display_name": "Python 3 (ipykernel)",
   "language": "python",
   "name": "python3"
  },
  "language_info": {
   "codemirror_mode": {
    "name": "ipython",
    "version": 3
   },
   "file_extension": ".py",
   "mimetype": "text/x-python",
   "name": "python",
   "nbconvert_exporter": "python",
   "pygments_lexer": "ipython3",
   "version": "3.12.7"
  }
 },
 "nbformat": 4,
 "nbformat_minor": 5
}
