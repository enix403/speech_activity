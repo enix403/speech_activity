{
 "cells": [
  {
   "cell_type": "code",
   "execution_count": 1,
   "id": "ee288e51-bd66-4d4e-bc4c-e4a865946824",
   "metadata": {},
   "outputs": [],
   "source": [
    "%load_ext autoreload\n",
    "%autoreload 2"
   ]
  },
  {
   "cell_type": "code",
   "execution_count": 2,
   "id": "afe38341-6fcb-4b09-998d-61d5f79f1587",
   "metadata": {},
   "outputs": [],
   "source": [
    "import os\n",
    "from pathlib import Path\n",
    "import math\n",
    "\n",
    "import torch\n",
    "from torch import nn\n",
    "import numpy as np\n",
    "import pandas as pd\n",
    "import scipy\n",
    "import textgrids\n",
    "import librosa\n",
    "import python_speech_features as psf\n",
    "\n",
    "import matplotlib.pyplot as plt\n",
    "\n",
    "%matplotlib inline"
   ]
  },
  {
   "cell_type": "code",
   "execution_count": 18,
   "id": "def3d31d-62de-429d-9ab4-7e818810e485",
   "metadata": {},
   "outputs": [],
   "source": [
    "from speech_dataset import *\n",
    "from models import ConvBiLSTM"
   ]
  },
  {
   "cell_type": "code",
   "execution_count": 19,
   "id": "31ef13c1-e211-4848-a1c4-baad5a222683",
   "metadata": {},
   "outputs": [],
   "source": [
    "train_dataset, test_dataset = load_torch_dataset()"
   ]
  },
  {
   "cell_type": "code",
   "execution_count": 17,
   "id": "9ad13926-b09b-4512-8e32-8d45e626cc63",
   "metadata": {},
   "outputs": [],
   "source": [
    "X = train_dataset.tensors[0]\n",
    "Y = train_dataset.tensors[1]"
   ]
  },
  {
   "cell_type": "code",
   "execution_count": 7,
   "id": "f842b2e6-6ac5-4c5e-b167-220fdf0a322d",
   "metadata": {},
   "outputs": [],
   "source": [
    "model = ConvBiLSTM()"
   ]
  },
  {
   "cell_type": "code",
   "execution_count": 8,
   "id": "718bf0da-4d29-46c5-affe-194e848f0518",
   "metadata": {},
   "outputs": [],
   "source": [
    "pred = model(X)"
   ]
  },
  {
   "cell_type": "code",
   "execution_count": 9,
   "id": "be9dc01a-7c23-4d38-9d6a-500374d1a658",
   "metadata": {},
   "outputs": [
    {
     "name": "stdout",
     "output_type": "stream",
     "text": [
      "torch.Size([422, 15, 2])\n",
      "torch.Size([422, 15])\n"
     ]
    }
   ],
   "source": [
    "print(pred.shape)\n",
    "print(Y.shape)"
   ]
  },
  {
   "cell_type": "code",
   "execution_count": 10,
   "id": "38c13ef7-f5bd-4b82-b353-52cceab79128",
   "metadata": {},
   "outputs": [],
   "source": [
    "loss_fn = nn.CrossEntropyLoss()"
   ]
  },
  {
   "cell_type": "code",
   "execution_count": 11,
   "id": "4f83b46b-6cc7-470a-81ee-e1068adbb07d",
   "metadata": {},
   "outputs": [],
   "source": [
    "loss = loss_fn(pred.view(-1, 2), Y.view(-1))"
   ]
  }
 ],
 "metadata": {
  "kernelspec": {
   "display_name": "Python 3 (ipykernel)",
   "language": "python",
   "name": "python3"
  },
  "language_info": {
   "codemirror_mode": {
    "name": "ipython",
    "version": 3
   },
   "file_extension": ".py",
   "mimetype": "text/x-python",
   "name": "python",
   "nbconvert_exporter": "python",
   "pygments_lexer": "ipython3",
   "version": "3.12.7"
  }
 },
 "nbformat": 4,
 "nbformat_minor": 5
}
