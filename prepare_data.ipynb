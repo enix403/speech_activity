{
 "cells": [
  {
   "cell_type": "code",
   "execution_count": 2,
   "id": "c588931f-fc92-4ae8-a1bc-ea45e3a19f65",
   "metadata": {},
   "outputs": [
    {
     "name": "stdout",
     "output_type": "stream",
     "text": [
      "The autoreload extension is already loaded. To reload it, use:\n",
      "  %reload_ext autoreload\n"
     ]
    }
   ],
   "source": [
    "%load_ext autoreload\n",
    "%autoreload 2"
   ]
  },
  {
   "cell_type": "code",
   "execution_count": 3,
   "id": "7f6b962f-4e5a-42c0-af7f-4c87803a278c",
   "metadata": {},
   "outputs": [],
   "source": [
    "import os\n",
    "from pathlib import Path\n",
    "import math\n",
    "\n",
    "import torch\n",
    "import numpy as np\n",
    "import pandas as pd\n",
    "import scipy\n",
    "import textgrids\n",
    "import librosa\n",
    "import python_speech_features as psf\n",
    "\n",
    "import matplotlib.pyplot as plt\n",
    "\n",
    "%matplotlib inline"
   ]
  },
  {
   "cell_type": "code",
   "execution_count": 9,
   "id": "1bd7d5eb-b683-42bf-98d6-8d9a41344008",
   "metadata": {},
   "outputs": [],
   "source": [
    "from load_data import *\n",
    "from feature_ext import *"
   ]
  },
  {
   "cell_type": "code",
   "execution_count": 6,
   "id": "758dafd4-94c9-4c76-b9fc-e5628c72da6c",
   "metadata": {},
   "outputs": [],
   "source": [
    "all_names = load_all_names()"
   ]
  },
  {
   "cell_type": "code",
   "execution_count": 10,
   "id": "97811876-7295-405d-9323-bf69dd91f01f",
   "metadata": {},
   "outputs": [],
   "source": [
    "X_seq_all = []\n",
    "Y_seq_all = []\n",
    "\n",
    "for name in all_names:\n",
    "    X_seq, Y_seq = load_and_extract(name)\n",
    "\n",
    "    X_seq_all.extend(X_seq)\n",
    "    Y_seq_all.extend(Y_seq)"
   ]
  },
  {
   "cell_type": "code",
   "execution_count": 11,
   "id": "771b50ca-95fa-4514-8df1-90f104c4dc1a",
   "metadata": {},
   "outputs": [
    {
     "data": {
      "text/plain": [
       "9467"
      ]
     },
     "execution_count": 11,
     "metadata": {},
     "output_type": "execute_result"
    }
   ],
   "source": [
    "len(X_seq_all)"
   ]
  }
 ],
 "metadata": {
  "kernelspec": {
   "display_name": "Python 3 (ipykernel)",
   "language": "python",
   "name": "python3"
  },
  "language_info": {
   "codemirror_mode": {
    "name": "ipython",
    "version": 3
   },
   "file_extension": ".py",
   "mimetype": "text/x-python",
   "name": "python",
   "nbconvert_exporter": "python",
   "pygments_lexer": "ipython3",
   "version": "3.12.7"
  }
 },
 "nbformat": 4,
 "nbformat_minor": 5
}
