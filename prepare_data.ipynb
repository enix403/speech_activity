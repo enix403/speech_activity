{
 "cells": [
  {
   "cell_type": "code",
   "execution_count": 2,
   "id": "c588931f-fc92-4ae8-a1bc-ea45e3a19f65",
   "metadata": {},
   "outputs": [
    {
     "name": "stdout",
     "output_type": "stream",
     "text": [
      "The autoreload extension is already loaded. To reload it, use:\n",
      "  %reload_ext autoreload\n"
     ]
    }
   ],
   "source": [
    "%load_ext autoreload\n",
    "%autoreload 2"
   ]
  },
  {
   "cell_type": "code",
   "execution_count": 3,
   "id": "7f6b962f-4e5a-42c0-af7f-4c87803a278c",
   "metadata": {},
   "outputs": [],
   "source": [
    "import os\n",
    "from pathlib import Path\n",
    "import math\n",
    "\n",
    "import torch\n",
    "import numpy as np\n",
    "import pandas as pd\n",
    "import scipy\n",
    "import textgrids\n",
    "import librosa\n",
    "import python_speech_features as psf\n",
    "\n",
    "import matplotlib.pyplot as plt\n",
    "\n",
    "%matplotlib inline"
   ]
  },
  {
   "cell_type": "code",
   "execution_count": 9,
   "id": "1bd7d5eb-b683-42bf-98d6-8d9a41344008",
   "metadata": {},
   "outputs": [],
   "source": [
    "from load_data import *\n",
    "from feature_ext import *"
   ]
  },
  {
   "cell_type": "code",
   "execution_count": 10,
   "id": "97811876-7295-405d-9323-bf69dd91f01f",
   "metadata": {},
   "outputs": [],
   "source": [
    "X_seq_all, Y_seq_all = load_all_data()"
   ]
  },
  {
   "cell_type": "code",
   "execution_count": 17,
   "id": "771b50ca-95fa-4514-8df1-90f104c4dc1a",
   "metadata": {},
   "outputs": [],
   "source": [
    "# np.savez('data/spects.npz', X_seq_all=X_seq_all, Y_seq_all=Y_seq_all)"
   ]
  },
  {
   "cell_type": "code",
   "execution_count": 19,
   "id": "501be3d6-5078-49cb-a99d-def04abd2fe1",
   "metadata": {},
   "outputs": [],
   "source": [
    "m = np.load(\"data/spects.npz\")"
   ]
  },
  {
   "cell_type": "code",
   "execution_count": 23,
   "id": "2e49e6d5-f29f-4fcb-b96f-0d95442b9d87",
   "metadata": {},
   "outputs": [
    {
     "data": {
      "text/plain": [
       "True"
      ]
     },
     "execution_count": 23,
     "metadata": {},
     "output_type": "execute_result"
    }
   ],
   "source": [
    "np.allclose(m['Y_seq_all'], Y_seq_all)"
   ]
  }
 ],
 "metadata": {
  "kernelspec": {
   "display_name": "Python 3 (ipykernel)",
   "language": "python",
   "name": "python3"
  },
  "language_info": {
   "codemirror_mode": {
    "name": "ipython",
    "version": 3
   },
   "file_extension": ".py",
   "mimetype": "text/x-python",
   "name": "python",
   "nbconvert_exporter": "python",
   "pygments_lexer": "ipython3",
   "version": "3.12.7"
  }
 },
 "nbformat": 4,
 "nbformat_minor": 5
}
