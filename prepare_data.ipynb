{
 "cells": [
  {
   "cell_type": "code",
   "execution_count": 1,
   "id": "c588931f-fc92-4ae8-a1bc-ea45e3a19f65",
   "metadata": {},
   "outputs": [],
   "source": [
    "%load_ext autoreload\n",
    "%autoreload 2"
   ]
  },
  {
   "cell_type": "code",
   "execution_count": 7,
   "id": "7f6b962f-4e5a-42c0-af7f-4c87803a278c",
   "metadata": {},
   "outputs": [],
   "source": [
    "import os\n",
    "from pathlib import Path\n",
    "import math\n",
    "\n",
    "import torch\n",
    "import numpy as np\n",
    "import pandas as pd\n",
    "import scipy\n",
    "from sklearn.model_selection import train_test_split\n",
    "import textgrids\n",
    "import librosa\n",
    "import python_speech_features as psf\n",
    "\n",
    "import matplotlib.pyplot as plt\n",
    "\n",
    "%matplotlib inline"
   ]
  },
  {
   "cell_type": "code",
   "execution_count": 3,
   "id": "1bd7d5eb-b683-42bf-98d6-8d9a41344008",
   "metadata": {},
   "outputs": [],
   "source": [
    "from load_data import *\n",
    "from feature_ext import *"
   ]
  },
  {
   "cell_type": "code",
   "execution_count": 4,
   "id": "97811876-7295-405d-9323-bf69dd91f01f",
   "metadata": {},
   "outputs": [],
   "source": [
    "X_seq_all, Y_seq_all = load_all_data()"
   ]
  },
  {
   "cell_type": "code",
   "execution_count": 5,
   "id": "279639d8-5764-458a-8002-ad5f5b38a338",
   "metadata": {},
   "outputs": [
    {
     "name": "stdout",
     "output_type": "stream",
     "text": [
      "(9467, 32, 32)\n",
      "(9467,)\n"
     ]
    }
   ],
   "source": [
    "print(X_seq_all.shape)\n",
    "print(Y_seq_all.shape)"
   ]
  },
  {
   "cell_type": "code",
   "execution_count": 18,
   "id": "e69b14a0-1d27-425a-a3ee-c1e0ad24127a",
   "metadata": {},
   "outputs": [
    {
     "name": "stdout",
     "output_type": "stream",
     "text": [
      "X_train.shape=(6342, 32, 32) Y_train.shape=(6342,)\n",
      "X_test.shape=(3125, 32, 32) Y_test.shape=(3125,)\n"
     ]
    }
   ],
   "source": [
    "X_train, X_test, Y_train, Y_test = train_test_split(\n",
    "    X_seq_all, Y_seq_all,\n",
    "    test_size=0.33,\n",
    "    shuffle=False\n",
    ")\n",
    "\n",
    "print(f\"{X_train.shape=} {Y_train.shape=}\")\n",
    "print(f\"{X_test.shape=} {Y_test.shape=}\")"
   ]
  }
 ],
 "metadata": {
  "kernelspec": {
   "display_name": "Python 3 (ipykernel)",
   "language": "python",
   "name": "python3"
  },
  "language_info": {
   "codemirror_mode": {
    "name": "ipython",
    "version": 3
   },
   "file_extension": ".py",
   "mimetype": "text/x-python",
   "name": "python",
   "nbconvert_exporter": "python",
   "pygments_lexer": "ipython3",
   "version": "3.12.7"
  }
 },
 "nbformat": 4,
 "nbformat_minor": 5
}
