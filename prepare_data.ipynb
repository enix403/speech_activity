{
 "cells": [
  {
   "cell_type": "code",
   "execution_count": 1,
   "id": "c588931f-fc92-4ae8-a1bc-ea45e3a19f65",
   "metadata": {},
   "outputs": [],
   "source": [
    "%load_ext autoreload\n",
    "%autoreload 2"
   ]
  },
  {
   "cell_type": "code",
   "execution_count": 12,
   "id": "7f6b962f-4e5a-42c0-af7f-4c87803a278c",
   "metadata": {},
   "outputs": [],
   "source": [
    "import os\n",
    "import math\n",
    "from pathlib import Path\n",
    "\n",
    "import torch\n",
    "from sklearn.model_selection import train_test_split\n",
    "from sklearn.preprocessing import StandardScaler\n",
    "\n",
    "import matplotlib.pyplot as plt\n",
    "\n",
    "%matplotlib inline"
   ]
  },
  {
   "cell_type": "code",
   "execution_count": 3,
   "id": "1bd7d5eb-b683-42bf-98d6-8d9a41344008",
   "metadata": {},
   "outputs": [],
   "source": [
    "from load_data import *\n",
    "from feature_ext import *"
   ]
  },
  {
   "cell_type": "code",
   "execution_count": 8,
   "id": "279639d8-5764-458a-8002-ad5f5b38a338",
   "metadata": {},
   "outputs": [
    {
     "name": "stdout",
     "output_type": "stream",
     "text": [
      "torch.Size([9467, 32, 32])\n",
      "torch.Size([9467])\n"
     ]
    }
   ],
   "source": [
    "X_seq_all, Y_seq_all = load_all_data()\n",
    "\n",
    "print(X_seq_all.shape)\n",
    "print(Y_seq_all.shape)"
   ]
  },
  {
   "cell_type": "code",
   "execution_count": 50,
   "id": "e69b14a0-1d27-425a-a3ee-c1e0ad24127a",
   "metadata": {},
   "outputs": [
    {
     "name": "stdout",
     "output_type": "stream",
     "text": [
      "X_train_all.shape=torch.Size([6342, 32, 32]) Y_train_all.shape=torch.Size([6342])\n",
      "X_test_all.shape=torch.Size([3125, 32, 32]) Y_test_all.shape=torch.Size([3125])\n"
     ]
    }
   ],
   "source": [
    "X_train_all, X_test_all, Y_train_all, Y_test_all = train_test_split(\n",
    "    X_seq_all, Y_seq_all,\n",
    "    test_size=0.33,\n",
    "    shuffle=False\n",
    ")\n",
    "\n",
    "print(f\"{X_train_all.shape=} {Y_train_all.shape=}\")\n",
    "print(f\"{X_test_all.shape=} {Y_test_all.shape=}\")"
   ]
  },
  {
   "cell_type": "code",
   "execution_count": 48,
   "id": "19237b86-4d27-4b56-81f5-5e4544f7a12e",
   "metadata": {},
   "outputs": [],
   "source": [
    "# scaler = StandardScaler()\n",
    "# scaler.fit(X_train_all.view(X_train.shape[0], -1));"
   ]
  },
  {
   "cell_type": "code",
   "execution_count": 49,
   "id": "a66bc398-55ed-4b70-b59d-f01c1826306f",
   "metadata": {},
   "outputs": [],
   "source": [
    "def chunk_into_sequences(X, Y, seq_len: int = 15):\n",
    "    batch_size = X.shape[0]\n",
    "\n",
    "    chunk_idx = list(\n",
    "        range(0, batch_size - seq_len + 1, seq_len))\n",
    "\n",
    "    X_chunked = torch.stack([\n",
    "        X[i:i+seq_len]\n",
    "        for i in chunk_idx\n",
    "    ], dim=0)\n",
    "\n",
    "    Y_chunked = torch.stack([\n",
    "        Y[i:i+seq_len]\n",
    "        for i in chunk_idx\n",
    "    ], dim=0)\n",
    "\n",
    "    return X_chunked, Y_chunked"
   ]
  },
  {
   "cell_type": "code",
   "execution_count": 47,
   "id": "3d69fb77-90bf-4c03-985f-9d2a72586976",
   "metadata": {},
   "outputs": [],
   "source": [
    "X_train, Y_train = chunk_into_sequences(X_train_all, Y_train_all)"
   ]
  }
 ],
 "metadata": {
  "kernelspec": {
   "display_name": "Python 3 (ipykernel)",
   "language": "python",
   "name": "python3"
  },
  "language_info": {
   "codemirror_mode": {
    "name": "ipython",
    "version": 3
   },
   "file_extension": ".py",
   "mimetype": "text/x-python",
   "name": "python",
   "nbconvert_exporter": "python",
   "pygments_lexer": "ipython3",
   "version": "3.12.7"
  }
 },
 "nbformat": 4,
 "nbformat_minor": 5
}
